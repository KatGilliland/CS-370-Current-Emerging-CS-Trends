{
 "cells": [
  {
   "cell_type": "markdown",
   "metadata": {},
   "source": [
    "# Treasure Hunt Game Notebook\n",
    "\n",
    "## Read and Review Your Starter Code\n",
    "The theme of this project is a popular treasure hunt game in which the player needs to find the treasure before the pirate does. While you will not be developing the entire game, you will write the part of the game that represents the intelligent agent, which is a pirate in this case. The pirate will try to find the optimal path to the treasure using deep Q-learning. \n",
    "\n",
    "You have been provided with two Python classes and this notebook to help you with this assignment. The first class, TreasureMaze.py, represents the environment, which includes a maze object defined as a matrix. The second class, GameExperience.py, stores the episodes – that is, all the states that come in between the initial state and the terminal state. This is later used by the agent for learning by experience, called \"exploration\". This notebook shows how to play a game. Your task is to complete the deep Q-learning implementation for which a skeleton implementation has been provided. The code blocks you will need to complete has #TODO as a header.\n",
    "\n",
    "First, read and review the next few code and instruction blocks to understand the code that you have been given."
   ]
  },
  {
   "cell_type": "code",
   "execution_count": 1,
   "metadata": {},
   "outputs": [
    {
     "name": "stderr",
     "output_type": "stream",
     "text": [
      "Using TensorFlow backend.\n"
     ]
    }
   ],
   "source": [
    "from __future__ import print_function\n",
    "import os, sys, time, datetime, json, random\n",
    "import numpy as np\n",
    "from keras.models import Sequential\n",
    "from keras.layers.core import Dense, Activation\n",
    "from keras.optimizers import SGD , Adam, RMSprop\n",
    "from keras.layers.advanced_activations import PReLU\n",
    "import matplotlib.pyplot as plt\n",
    "from TreasureMaze import TreasureMaze\n",
    "from GameExperience import GameExperience\n",
    "%matplotlib inline"
   ]
  },
  {
   "cell_type": "markdown",
   "metadata": {},
   "source": [
    "The following code block contains an 8x8 matrix that will be used as a maze object:"
   ]
  },
  {
   "cell_type": "code",
   "execution_count": 2,
   "metadata": {},
   "outputs": [],
   "source": [
    "maze = np.array([\n",
    "    [ 1.,  0.,  1.,  1.,  1.,  1.,  1.,  1.],\n",
    "    [ 1.,  0.,  1.,  1.,  1.,  0.,  1.,  1.],\n",
    "    [ 1.,  1.,  1.,  1.,  0.,  1.,  0.,  1.],\n",
    "    [ 1.,  1.,  1.,  0.,  1.,  1.,  1.,  1.],\n",
    "    [ 1.,  1.,  0.,  1.,  1.,  1.,  1.,  1.],\n",
    "    [ 1.,  1.,  1.,  0.,  1.,  0.,  0.,  0.],\n",
    "    [ 1.,  1.,  1.,  0.,  1.,  1.,  1.,  1.],\n",
    "    [ 1.,  1.,  1.,  1.,  0.,  1.,  1.,  1.]\n",
    "])"
   ]
  },
  {
   "cell_type": "markdown",
   "metadata": {},
   "source": [
    "This helper function allows a visual representation of the maze object:"
   ]
  },
  {
   "cell_type": "code",
   "execution_count": 3,
   "metadata": {},
   "outputs": [],
   "source": [
    "def show(qmaze):\n",
    "    plt.grid('on')\n",
    "    nrows, ncols = qmaze.maze.shape\n",
    "    ax = plt.gca()\n",
    "    ax.set_xticks(np.arange(0.5, nrows, 1))\n",
    "    ax.set_yticks(np.arange(0.5, ncols, 1))\n",
    "    ax.set_xticklabels([])\n",
    "    ax.set_yticklabels([])\n",
    "    canvas = np.copy(qmaze.maze)\n",
    "    for row,col in qmaze.visited:\n",
    "        canvas[row,col] = 0.6\n",
    "    pirate_row, pirate_col, _ = qmaze.state\n",
    "    canvas[pirate_row, pirate_col] = 0.3   # pirate cell\n",
    "    canvas[nrows-1, ncols-1] = 0.9 # treasure cell\n",
    "    img = plt.imshow(canvas, interpolation='none', cmap='gray')\n",
    "    return img"
   ]
  },
  {
   "cell_type": "markdown",
   "metadata": {},
   "source": [
    "The pirate agent can move in four directions: left, right, up, and down. \n",
    "\n",
    "While the agent primarily learns by experience through exploitation, often, the agent can choose to explore the environment to find previously undiscovered paths. This is called \"exploration\" and is defined by epsilon. This value is typically a lower value such as 0.1, which means for every ten attempts, the agent will attempt to learn by experience nine times and will randomly explore a new path one time. You are encouraged to try various values for the exploration factor and see how the algorithm performs."
   ]
  },
  {
   "cell_type": "code",
   "execution_count": 4,
   "metadata": {},
   "outputs": [],
   "source": [
    "LEFT = 0\n",
    "UP = 1\n",
    "RIGHT = 2\n",
    "DOWN = 3\n",
    "\n",
    "\n",
    "# Exploration factor\n",
    "epsilon = 0.2 # Updating exploration factor to 20 or 0.2\n",
    "\n",
    "# Actions dictionary\n",
    "actions_dict = {\n",
    "    LEFT: 'left',\n",
    "    UP: 'up',\n",
    "    RIGHT: 'right',\n",
    "    DOWN: 'down',\n",
    "}\n",
    "\n",
    "num_actions = len(actions_dict)\n"
   ]
  },
  {
   "cell_type": "markdown",
   "metadata": {},
   "source": [
    "The sample code block and output below show creating a maze object and performing one action (DOWN), which returns the reward. The resulting updated environment is visualized."
   ]
  },
  {
   "cell_type": "code",
   "execution_count": 5,
   "metadata": {},
   "outputs": [
    {
     "name": "stdout",
     "output_type": "stream",
     "text": [
      "reward= -0.04\n"
     ]
    },
    {
     "data": {
      "text/plain": [
       "<matplotlib.image.AxesImage at 0x16533cc1ac8>"
      ]
     },
     "execution_count": 5,
     "metadata": {},
     "output_type": "execute_result"
    },
    {
     "data": {
      "image/png": "[encoded data removed]",
      "text/plain": [
       "<Figure size 432x288 with 1 Axes>"
      ]
     },
     "metadata": {
      "needs_background": "light"
     },
     "output_type": "display_data"
    }
   ],
   "source": [
    "qmaze = TreasureMaze(maze)\n",
    "canvas, reward, game_over = qmaze.act(DOWN)\n",
    "print(\"reward=\", reward)\n",
    "show(qmaze)"
   ]
  },
  {
   "cell_type": "markdown",
   "metadata": {},
   "source": [
    "This function simulates a full game based on the provided trained model. The other parameters include the TreasureMaze object and the starting position of the pirate."
   ]
  },
  {
   "cell_type": "code",
   "execution_count": 6,
   "metadata": {},
   "outputs": [],
   "source": [
    "def play_game(model, qmaze, pirate_cell):\n",
    "    qmaze.reset(pirate_cell)\n",
    "    envstate = qmaze.observe()\n",
    "    while True:\n",
    "        prev_envstate = envstate\n",
    "        # get next action\n",
    "        q = model.predict(prev_envstate)\n",
    "        action = np.argmax(q[0])\n",
    "\n",
    "        # apply action, get rewards and new state\n",
    "        envstate, reward, game_status = qmaze.act(action)\n",
    "        if game_status == 'win':\n",
    "            return True\n",
    "        elif game_status == 'lose':\n",
    "            return False"
   ]
  },
  {
   "cell_type": "markdown",
   "metadata": {},
   "source": [
    "This function helps you to determine whether the pirate can win any game at all. If your maze is not well designed, the pirate may not win any game at all. In this case, your training would not yield any result. The provided maze in this notebook ensures that there is a path to win and you can run this method to check."
   ]
  },
  {
   "cell_type": "code",
   "execution_count": 7,
   "metadata": {},
   "outputs": [],
   "source": [
    "def completion_check(model, qmaze):\n",
    "    for cell in qmaze.free_cells:\n",
    "        if not qmaze.valid_actions(cell):\n",
    "            return False\n",
    "        if not play_game(model, qmaze, cell):\n",
    "            return False\n",
    "    return True"
   ]
  },
  {
   "cell_type": "markdown",
   "metadata": {},
   "source": [
    "The code you have been given in this block will build the neural network model. Review the code and note the number of layers, as well as the activation, optimizer, and loss functions that are used to train the model."
   ]
  },
  {
   "cell_type": "code",
   "execution_count": 8,
   "metadata": {},
   "outputs": [],
   "source": [
    "def build_model(maze):\n",
    "    model = Sequential()\n",
    "    model.add(Dense(maze.size, input_shape=(maze.size,)))\n",
    "    model.add(PReLU())\n",
    "    model.add(Dense(maze.size))\n",
    "    model.add(PReLU())\n",
    "    model.add(Dense(num_actions))\n",
    "    model.compile(optimizer='adam', loss='mse')\n",
    "    return model"
   ]
  },
  {
   "cell_type": "markdown",
   "metadata": {},
   "source": [
    "# #TODO: Complete the Q-Training Algorithm Code Block\n",
    "\n",
    "This is your deep Q-learning implementation. The goal of your deep Q-learning implementation is to find the best possible navigation sequence that results in reaching the treasure cell while maximizing the reward. In your implementation, you need to determine the optimal number of epochs to achieve a 100% win rate.\n",
    "\n",
    "You will need to complete the section starting with #pseudocode. The pseudocode has been included for you."
   ]
  },
  {
   "cell_type": "code",
   "execution_count": 9,
   "metadata": {},
   "outputs": [],
   "source": [
    "def qtrain(model, maze, **opt):\n",
    "\n",
    "    # exploration factor\n",
    "    global epsilon \n",
    "\n",
    "    # number of epochs\n",
    "    n_epoch = opt.get('n_epoch', 18000) # Updated from 15000 to 18000\n",
    "\n",
    "    # maximum memory to store episodes\n",
    "    max_memory = opt.get('max_memory', 1000)\n",
    "\n",
    "    # maximum data size for training\n",
    "    data_size = opt.get('data_size', 50)\n",
    "\n",
    "    # start time\n",
    "    start_time = datetime.datetime.now()\n",
    "\n",
    "    # Construct environment/game from numpy array: maze (see above)\n",
    "    qmaze = TreasureMaze(maze)\n",
    "\n",
    "    # Initialize experience replay object\n",
    "    experience = GameExperience(model, max_memory=max_memory)\n",
    "    \n",
    "    win_history = []   # history of win/lose game\n",
    "    hsize = qmaze.maze.size//2   # history window size\n",
    "    win_rate = 0.0\n",
    "    \n",
    "    # pseudocode:\n",
    "    # For each epoch:\n",
    "    #    Agent_cell = randomly select a free cell\n",
    "    #    Reset the maze with agent set to above position\n",
    "    #    Hint: Review the reset method in the TreasureMaze.py class.\n",
    "    #    envstate = Environment.current_state\n",
    "    #    Hint: Review the observe method in the TreasureMaze.py class.\n",
    "    #    While state is not game over:\n",
    "    #        previous_envstate = envstate\n",
    "    #        Action = randomly choose action (left, right, up, down) either by exploration or by exploitation\n",
    "    #        envstate, reward, game_status = qmaze.act(action)\n",
    "    #    Hint: Review the act method in the TreasureMaze.py class.\n",
    "    #        episode = [previous_envstate, action, reward, envstate, game_status]\n",
    "    #        Store episode in Experience replay object\n",
    "    #    Hint: Review the remember method in the GameExperience.py class.\n",
    "    #        Train neural network model and evaluate loss\n",
    "    #    Hint: Call GameExperience.get_data to retrieve training data (input and target) and pass to model.fit method \n",
    "    #          to train the model. You can call model.evaluate to determine loss.\n",
    "    #    If the win rate is above the threshold and your model passes the completion check, that would be your epoch.\n",
    "    \n",
    "    # Code for project two KG\n",
    "    # OPTIMAL NUMBER OF EPOCHS IS 173\n",
    "    for epoch in range(n_epoch):\n",
    "        n_episodes = 0\n",
    "        loss = 0\n",
    "        agent_cell = random.choice(qmaze.free_cells) # Randomly selecting a free cell as the starting point KG\n",
    "        qmaze.reset(agent_cell)\n",
    "        envstate = qmaze.observe()\n",
    "         \n",
    "        while qmaze.game_status() == 'not_over':\n",
    "            previous_envstate = envstate\n",
    "            valid_actions = qmaze.valid_actions() # Choosing action from valid actions KG\n",
    "            if not valid_actions: break\n",
    "            # Getting next action KG\n",
    "            if np.random.rand() < epsilon:\n",
    "                action = random.choice(valid_actions)\n",
    "            else:\n",
    "                action = np.argmax(experience.predict(previous_envstate)) \n",
    "            \n",
    "            # Appling action, receiving reward, and getting the new envstate KG \n",
    "            envstate, reward, game_status = qmaze.act(action)\n",
    "            n_episodes += 1 # Increasing episode count because action was taken KG\n",
    "            episode = [previous_envstate, action, reward, envstate, game_status]\n",
    "            experience.remember(episode) # Storing episode in experience replay object KG\n",
    "        \n",
    "            \n",
    "            # Training the model to evaluate loss KG \n",
    "            inputs, targets = experience.get_data(data_size=data_size)\n",
    "            model.fit(inputs, targets, epochs=8, batch_size=16, verbose=0)\n",
    "            loss = model.evaluate(inputs, targets, verbose=0)\n",
    "            \n",
    "            # Calculating and checking win rate KG\n",
    "            if game_status == 'win':\n",
    "                win_history.append(1)\n",
    "            elif game_status == 'lose':\n",
    "                win_history.append(0)\n",
    "            \n",
    "        if len(win_history) >= hsize:\n",
    "            win_rate = sum(win_history[-hsize:]) / hsize\n",
    "            \n",
    "\n",
    "    #Print the epoch, loss, episodes, win count, and win rate for each epoch\n",
    "        dt = datetime.datetime.now() - start_time\n",
    "        t = format_time(dt.total_seconds())\n",
    "        template = \"Epoch: {:03d}/{:d} | Loss: {:.4f} | Episodes: {:d} | Win count: {:d} | Win rate: {:.3f} | time: {}\"\n",
    "        print(template.format(epoch, n_epoch-1, loss, n_episodes, sum(win_history), win_rate, t))\n",
    "        # We simply check if training has exhausted all free cells and if in all\n",
    "        # cases the agent won.\n",
    "        if win_rate > 0.9 : epsilon = 0.05\n",
    "        if sum(win_history[-hsize:]) == hsize and completion_check(model, qmaze):\n",
    "            print(\"Reached 100%% win rate at epoch: %d\" % (epoch,))\n",
    "            break\n",
    "    \n",
    "    \n",
    "    # Determine the total time for training\n",
    "    dt = datetime.datetime.now() - start_time\n",
    "    seconds = dt.total_seconds()\n",
    "    t = format_time(seconds)\n",
    "\n",
    "    print(\"n_epoch: %d, max_mem: %d, data: %d, time: %s\" % (epoch, max_memory, data_size, t))\n",
    "    return seconds\n",
    "\n",
    "# This is a small utility for printing readable time strings:\n",
    "def format_time(seconds):\n",
    "    if seconds < 400:\n",
    "        s = float(seconds)\n",
    "        return \"%.1f seconds\" % (s,)\n",
    "    elif seconds < 4000:\n",
    "        m = seconds / 60.0\n",
    "        return \"%.2f minutes\" % (m,)\n",
    "    else:\n",
    "        h = seconds / 3600.0\n",
    "        return \"%.2f hours\" % (h,)"
   ]
  },
  {
   "cell_type": "markdown",
   "metadata": {},
   "source": [
    "## Test Your Model\n",
    "\n",
    "Now we will start testing the deep Q-learning implementation. To begin, select **Cell**, then **Run All** from the menu bar. This will run your notebook. As it runs, you should see output begin to appear beneath the next few cells. The code below creates an instance of TreasureMaze."
   ]
  },
  {
   "cell_type": "code",
   "execution_count": 10,
   "metadata": {},
   "outputs": [
    {
     "data": {
      "text/plain": [
       "<matplotlib.image.AxesImage at 0x16533d83208>"
      ]
     },
     "execution_count": 10,
     "metadata": {},
     "output_type": "execute_result"
    },
    {
     "data": {
      "image/png": "[encoded data removed]",
      "text/plain": [
       "<Figure size 432x288 with 1 Axes>"
      ]
     },
     "metadata": {
      "needs_background": "light"
     },
     "output_type": "display_data"
    }
   ],
   "source": [
    "qmaze = TreasureMaze(maze)\n",
    "show(qmaze)"
   ]
  },
  {
   "cell_type": "markdown",
   "metadata": {},
   "source": [
    "In the next code block, you will build your model and train it using deep Q-learning. Note: This step takes several minutes to fully run."
   ]
  },
  {
   "cell_type": "code",
   "execution_count": 11,
   "metadata": {},
   "outputs": [
    {
     "name": "stdout",
     "output_type": "stream",
     "text": [
      "Epoch: 000/17999 | Loss: 0.0114 | Episodes: 69 | Win count: 1 | Win rate: 0.000 | time: 8.3 seconds\n",
      "Epoch: 001/17999 | Loss: 0.0004 | Episodes: 135 | Win count: 1 | Win rate: 0.000 | time: 23.6 seconds\n",
      "Epoch: 002/17999 | Loss: 0.0012 | Episodes: 37 | Win count: 2 | Win rate: 0.000 | time: 27.5 seconds\n",
      "Epoch: 003/17999 | Loss: 0.0019 | Episodes: 8 | Win count: 3 | Win rate: 0.000 | time: 28.5 seconds\n",
      "Epoch: 004/17999 | Loss: 0.0015 | Episodes: 43 | Win count: 4 | Win rate: 0.000 | time: 33.4 seconds\n",
      "Epoch: 005/17999 | Loss: 0.0009 | Episodes: 11 | Win count: 5 | Win rate: 0.000 | time: 34.7 seconds\n",
      "Epoch: 006/17999 | Loss: 0.0064 | Episodes: 16 | Win count: 6 | Win rate: 0.000 | time: 36.6 seconds\n",
      "Epoch: 007/17999 | Loss: 0.0008 | Episodes: 14 | Win count: 7 | Win rate: 0.000 | time: 38.3 seconds\n",
      "Epoch: 008/17999 | Loss: 0.0011 | Episodes: 12 | Win count: 8 | Win rate: 0.000 | time: 39.9 seconds\n",
      "Epoch: 009/17999 | Loss: 0.0007 | Episodes: 33 | Win count: 9 | Win rate: 0.000 | time: 43.9 seconds\n",
      "Epoch: 010/17999 | Loss: 0.0012 | Episodes: 136 | Win count: 9 | Win rate: 0.000 | time: 60.4 seconds\n",
      "Epoch: 011/17999 | Loss: 0.0011 | Episodes: 53 | Win count: 10 | Win rate: 0.000 | time: 66.4 seconds\n",
      "Epoch: 012/17999 | Loss: 0.0016 | Episodes: 137 | Win count: 10 | Win rate: 0.000 | time: 82.4 seconds\n",
      "Epoch: 013/17999 | Loss: 0.0006 | Episodes: 141 | Win count: 10 | Win rate: 0.000 | time: 98.8 seconds\n",
      "Epoch: 014/17999 | Loss: 0.0010 | Episodes: 37 | Win count: 11 | Win rate: 0.000 | time: 102.9 seconds\n",
      "Epoch: 015/17999 | Loss: 0.0013 | Episodes: 108 | Win count: 12 | Win rate: 0.000 | time: 116.1 seconds\n",
      "Epoch: 016/17999 | Loss: 0.0013 | Episodes: 19 | Win count: 13 | Win rate: 0.000 | time: 118.3 seconds\n",
      "Epoch: 017/17999 | Loss: 0.0015 | Episodes: 25 | Win count: 14 | Win rate: 0.000 | time: 121.6 seconds\n",
      "Epoch: 018/17999 | Loss: 0.0010 | Episodes: 63 | Win count: 15 | Win rate: 0.000 | time: 128.8 seconds\n",
      "Epoch: 019/17999 | Loss: 0.0016 | Episodes: 27 | Win count: 16 | Win rate: 0.000 | time: 131.9 seconds\n",
      "Epoch: 020/17999 | Loss: 0.0013 | Episodes: 24 | Win count: 17 | Win rate: 0.000 | time: 135.0 seconds\n",
      "Epoch: 021/17999 | Loss: 0.0013 | Episodes: 11 | Win count: 18 | Win rate: 0.000 | time: 136.1 seconds\n",
      "Epoch: 022/17999 | Loss: 0.0020 | Episodes: 61 | Win count: 19 | Win rate: 0.000 | time: 144.4 seconds\n",
      "Epoch: 023/17999 | Loss: 0.0006 | Episodes: 37 | Win count: 20 | Win rate: 0.000 | time: 149.1 seconds\n",
      "Epoch: 024/17999 | Loss: 0.0016 | Episodes: 143 | Win count: 20 | Win rate: 0.000 | time: 166.2 seconds\n",
      "Epoch: 025/17999 | Loss: 0.0013 | Episodes: 96 | Win count: 21 | Win rate: 0.000 | time: 177.9 seconds\n",
      "Epoch: 026/17999 | Loss: 0.0011 | Episodes: 34 | Win count: 22 | Win rate: 0.000 | time: 182.0 seconds\n",
      "Epoch: 027/17999 | Loss: 0.0014 | Episodes: 21 | Win count: 23 | Win rate: 0.000 | time: 184.3 seconds\n",
      "Epoch: 028/17999 | Loss: 0.0011 | Episodes: 32 | Win count: 24 | Win rate: 0.000 | time: 187.9 seconds\n",
      "Epoch: 029/17999 | Loss: 0.0015 | Episodes: 18 | Win count: 25 | Win rate: 0.000 | time: 189.9 seconds\n",
      "Epoch: 030/17999 | Loss: 0.0015 | Episodes: 28 | Win count: 26 | Win rate: 0.000 | time: 193.4 seconds\n",
      "Epoch: 031/17999 | Loss: 0.0010 | Episodes: 84 | Win count: 27 | Win rate: 0.844 | time: 203.0 seconds\n",
      "Epoch: 032/17999 | Loss: 0.0011 | Episodes: 15 | Win count: 28 | Win rate: 0.844 | time: 204.8 seconds\n",
      "Epoch: 033/17999 | Loss: 0.0017 | Episodes: 29 | Win count: 29 | Win rate: 0.875 | time: 208.6 seconds\n",
      "Epoch: 034/17999 | Loss: 0.0008 | Episodes: 35 | Win count: 30 | Win rate: 0.875 | time: 213.0 seconds\n",
      "Epoch: 035/17999 | Loss: 0.0006 | Episodes: 10 | Win count: 31 | Win rate: 0.875 | time: 214.3 seconds\n",
      "Epoch: 036/17999 | Loss: 0.0011 | Episodes: 25 | Win count: 32 | Win rate: 0.875 | time: 217.5 seconds\n",
      "Epoch: 037/17999 | Loss: 0.0007 | Episodes: 22 | Win count: 33 | Win rate: 0.875 | time: 220.1 seconds\n",
      "Epoch: 038/17999 | Loss: 0.0011 | Episodes: 9 | Win count: 34 | Win rate: 0.875 | time: 221.2 seconds\n",
      "Epoch: 039/17999 | Loss: 0.0012 | Episodes: 18 | Win count: 35 | Win rate: 0.875 | time: 223.6 seconds\n",
      "Epoch: 040/17999 | Loss: 0.0013 | Episodes: 29 | Win count: 36 | Win rate: 0.875 | time: 227.1 seconds\n",
      "Epoch: 041/17999 | Loss: 0.0010 | Episodes: 7 | Win count: 37 | Win rate: 0.875 | time: 228.0 seconds\n",
      "Epoch: 042/17999 | Loss: 0.0013 | Episodes: 38 | Win count: 38 | Win rate: 0.906 | time: 232.9 seconds\n",
      "Epoch: 043/17999 | Loss: 0.0013 | Episodes: 91 | Win count: 39 | Win rate: 0.906 | time: 243.4 seconds\n",
      "Epoch: 044/17999 | Loss: 0.0008 | Episodes: 27 | Win count: 40 | Win rate: 0.938 | time: 246.6 seconds\n",
      "Epoch: 045/17999 | Loss: 0.0010 | Episodes: 11 | Win count: 41 | Win rate: 0.969 | time: 247.8 seconds\n",
      "Epoch: 046/17999 | Loss: 0.0007 | Episodes: 23 | Win count: 42 | Win rate: 0.969 | time: 250.4 seconds\n",
      "Epoch: 047/17999 | Loss: 0.0008 | Episodes: 24 | Win count: 43 | Win rate: 0.969 | time: 253.0 seconds\n",
      "Epoch: 048/17999 | Loss: 0.0007 | Episodes: 14 | Win count: 44 | Win rate: 0.969 | time: 254.5 seconds\n",
      "Epoch: 049/17999 | Loss: 0.0013 | Episodes: 30 | Win count: 45 | Win rate: 0.969 | time: 258.0 seconds\n",
      "Epoch: 050/17999 | Loss: 0.0008 | Episodes: 11 | Win count: 46 | Win rate: 0.969 | time: 259.2 seconds\n",
      "Epoch: 051/17999 | Loss: 0.0010 | Episodes: 25 | Win count: 47 | Win rate: 0.969 | time: 261.8 seconds\n",
      "Epoch: 052/17999 | Loss: 0.0011 | Episodes: 25 | Win count: 48 | Win rate: 0.969 | time: 264.8 seconds\n",
      "Epoch: 053/17999 | Loss: 0.0011 | Episodes: 21 | Win count: 49 | Win rate: 0.969 | time: 267.1 seconds\n",
      "Epoch: 054/17999 | Loss: 0.0006 | Episodes: 3 | Win count: 50 | Win rate: 0.969 | time: 267.6 seconds\n",
      "Epoch: 055/17999 | Loss: 0.0008 | Episodes: 21 | Win count: 51 | Win rate: 0.969 | time: 270.0 seconds\n",
      "Epoch: 056/17999 | Loss: 0.0011 | Episodes: 18 | Win count: 52 | Win rate: 1.000 | time: 272.1 seconds\n",
      "Epoch: 057/17999 | Loss: 0.0004 | Episodes: 19 | Win count: 53 | Win rate: 1.000 | time: 274.8 seconds\n",
      "Epoch: 058/17999 | Loss: 0.0004 | Episodes: 29 | Win count: 54 | Win rate: 1.000 | time: 279.1 seconds\n",
      "Epoch: 059/17999 | Loss: 0.0002 | Episodes: 25 | Win count: 55 | Win rate: 1.000 | time: 282.2 seconds\n",
      "Epoch: 060/17999 | Loss: 0.0003 | Episodes: 23 | Win count: 56 | Win rate: 1.000 | time: 285.0 seconds\n",
      "Epoch: 061/17999 | Loss: 0.0014 | Episodes: 37 | Win count: 57 | Win rate: 1.000 | time: 290.4 seconds\n",
      "Epoch: 062/17999 | Loss: 0.0001 | Episodes: 24 | Win count: 58 | Win rate: 1.000 | time: 293.4 seconds\n",
      "Epoch: 063/17999 | Loss: 0.0004 | Episodes: 1 | Win count: 59 | Win rate: 1.000 | time: 293.6 seconds\n",
      "Epoch: 064/17999 | Loss: 0.0001 | Episodes: 5 | Win count: 60 | Win rate: 1.000 | time: 294.5 seconds\n",
      "Epoch: 065/17999 | Loss: 0.0000 | Episodes: 23 | Win count: 61 | Win rate: 1.000 | time: 298.0 seconds\n",
      "Epoch: 066/17999 | Loss: 0.0000 | Episodes: 7 | Win count: 62 | Win rate: 1.000 | time: 298.9 seconds\n",
      "Epoch: 067/17999 | Loss: 0.0004 | Episodes: 11 | Win count: 63 | Win rate: 1.000 | time: 300.7 seconds\n",
      "Epoch: 068/17999 | Loss: 0.0003 | Episodes: 23 | Win count: 64 | Win rate: 1.000 | time: 303.4 seconds\n",
      "Epoch: 069/17999 | Loss: 0.0004 | Episodes: 3 | Win count: 65 | Win rate: 1.000 | time: 304.1 seconds\n",
      "Epoch: 070/17999 | Loss: 0.0005 | Episodes: 1 | Win count: 66 | Win rate: 1.000 | time: 304.4 seconds\n",
      "Epoch: 071/17999 | Loss: 0.0007 | Episodes: 5 | Win count: 67 | Win rate: 1.000 | time: 305.2 seconds\n",
      "Epoch: 072/17999 | Loss: 0.0003 | Episodes: 17 | Win count: 68 | Win rate: 1.000 | time: 307.4 seconds\n",
      "Epoch: 073/17999 | Loss: 0.0000 | Episodes: 24 | Win count: 69 | Win rate: 1.000 | time: 310.4 seconds\n",
      "Epoch: 074/17999 | Loss: 0.0005 | Episodes: 8 | Win count: 70 | Win rate: 1.000 | time: 311.7 seconds\n",
      "Epoch: 075/17999 | Loss: 0.0001 | Episodes: 19 | Win count: 71 | Win rate: 1.000 | time: 314.1 seconds\n",
      "Epoch: 076/17999 | Loss: 0.0004 | Episodes: 5 | Win count: 72 | Win rate: 1.000 | time: 315.2 seconds\n",
      "Epoch: 077/17999 | Loss: 0.0001 | Episodes: 21 | Win count: 73 | Win rate: 1.000 | time: 318.1 seconds\n",
      "Epoch: 078/17999 | Loss: 0.0005 | Episodes: 11 | Win count: 74 | Win rate: 1.000 | time: 319.6 seconds\n",
      "Epoch: 079/17999 | Loss: 0.0002 | Episodes: 13 | Win count: 75 | Win rate: 1.000 | time: 321.4 seconds\n",
      "Epoch: 080/17999 | Loss: 0.0004 | Episodes: 19 | Win count: 76 | Win rate: 1.000 | time: 324.0 seconds\n",
      "Epoch: 081/17999 | Loss: 0.0000 | Episodes: 26 | Win count: 77 | Win rate: 1.000 | time: 327.3 seconds\n",
      "Epoch: 082/17999 | Loss: 0.0002 | Episodes: 25 | Win count: 78 | Win rate: 1.000 | time: 330.5 seconds\n",
      "Epoch: 083/17999 | Loss: 0.0002 | Episodes: 9 | Win count: 79 | Win rate: 1.000 | time: 331.9 seconds\n",
      "Epoch: 084/17999 | Loss: 0.0003 | Episodes: 25 | Win count: 80 | Win rate: 1.000 | time: 335.0 seconds\n",
      "Epoch: 085/17999 | Loss: 0.0003 | Episodes: 13 | Win count: 81 | Win rate: 1.000 | time: 337.0 seconds\n",
      "Epoch: 086/17999 | Loss: 0.0002 | Episodes: 18 | Win count: 82 | Win rate: 1.000 | time: 339.4 seconds\n",
      "Epoch: 087/17999 | Loss: 0.0001 | Episodes: 20 | Win count: 83 | Win rate: 1.000 | time: 342.1 seconds\n",
      "Epoch: 088/17999 | Loss: 0.0005 | Episodes: 20 | Win count: 84 | Win rate: 1.000 | time: 345.3 seconds\n",
      "Epoch: 089/17999 | Loss: 0.0011 | Episodes: 1 | Win count: 85 | Win rate: 1.000 | time: 345.7 seconds\n",
      "Epoch: 090/17999 | Loss: 0.0000 | Episodes: 22 | Win count: 86 | Win rate: 1.000 | time: 349.0 seconds\n",
      "Epoch: 091/17999 | Loss: 0.0008 | Episodes: 3 | Win count: 87 | Win rate: 1.000 | time: 349.7 seconds\n",
      "Epoch: 092/17999 | Loss: 0.0007 | Episodes: 7 | Win count: 88 | Win rate: 1.000 | time: 350.7 seconds\n",
      "Epoch: 093/17999 | Loss: 0.0006 | Episodes: 60 | Win count: 89 | Win rate: 1.000 | time: 358.0 seconds\n",
      "Epoch: 094/17999 | Loss: 0.0002 | Episodes: 5 | Win count: 90 | Win rate: 1.000 | time: 358.7 seconds\n",
      "Epoch: 095/17999 | Loss: 0.0007 | Episodes: 30 | Win count: 91 | Win rate: 1.000 | time: 363.0 seconds\n",
      "Epoch: 096/17999 | Loss: 0.0006 | Episodes: 19 | Win count: 92 | Win rate: 1.000 | time: 365.9 seconds\n",
      "Epoch: 097/17999 | Loss: 0.0002 | Episodes: 23 | Win count: 93 | Win rate: 1.000 | time: 369.0 seconds\n",
      "Epoch: 098/17999 | Loss: 0.0003 | Episodes: 28 | Win count: 94 | Win rate: 1.000 | time: 372.3 seconds\n",
      "Epoch: 099/17999 | Loss: 0.0000 | Episodes: 7 | Win count: 95 | Win rate: 1.000 | time: 373.3 seconds\n",
      "Epoch: 100/17999 | Loss: 0.0001 | Episodes: 31 | Win count: 96 | Win rate: 1.000 | time: 377.2 seconds\n",
      "Epoch: 101/17999 | Loss: 0.0000 | Episodes: 6 | Win count: 97 | Win rate: 1.000 | time: 378.1 seconds\n",
      "Epoch: 102/17999 | Loss: 0.0003 | Episodes: 23 | Win count: 98 | Win rate: 1.000 | time: 381.2 seconds\n",
      "Epoch: 103/17999 | Loss: 0.0003 | Episodes: 10 | Win count: 99 | Win rate: 1.000 | time: 382.6 seconds\n",
      "Epoch: 104/17999 | Loss: 0.0003 | Episodes: 27 | Win count: 100 | Win rate: 1.000 | time: 386.0 seconds\n",
      "Epoch: 105/17999 | Loss: 0.0003 | Episodes: 15 | Win count: 101 | Win rate: 1.000 | time: 388.1 seconds\n",
      "Epoch: 106/17999 | Loss: 0.0006 | Episodes: 47 | Win count: 102 | Win rate: 1.000 | time: 393.9 seconds\n",
      "Epoch: 107/17999 | Loss: 0.0008 | Episodes: 25 | Win count: 103 | Win rate: 1.000 | time: 397.1 seconds\n",
      "Epoch: 108/17999 | Loss: 0.0005 | Episodes: 6 | Win count: 104 | Win rate: 1.000 | time: 397.9 seconds\n",
      "Epoch: 109/17999 | Loss: 0.0003 | Episodes: 13 | Win count: 105 | Win rate: 1.000 | time: 399.5 seconds\n",
      "Epoch: 110/17999 | Loss: 0.0004 | Episodes: 7 | Win count: 106 | Win rate: 1.000 | time: 6.68 minutes\n",
      "Epoch: 111/17999 | Loss: 0.0005 | Episodes: 17 | Win count: 107 | Win rate: 1.000 | time: 6.72 minutes\n",
      "Epoch: 112/17999 | Loss: 0.0005 | Episodes: 16 | Win count: 108 | Win rate: 1.000 | time: 6.76 minutes\n",
      "Epoch: 113/17999 | Loss: 0.0001 | Episodes: 8 | Win count: 109 | Win rate: 1.000 | time: 6.78 minutes\n",
      "Epoch: 114/17999 | Loss: 0.0005 | Episodes: 42 | Win count: 110 | Win rate: 1.000 | time: 6.89 minutes\n",
      "Epoch: 115/17999 | Loss: 0.0005 | Episodes: 22 | Win count: 111 | Win rate: 1.000 | time: 6.94 minutes\n",
      "Epoch: 116/17999 | Loss: 0.0007 | Episodes: 9 | Win count: 112 | Win rate: 1.000 | time: 6.96 minutes\n",
      "Epoch: 117/17999 | Loss: 0.0005 | Episodes: 5 | Win count: 113 | Win rate: 1.000 | time: 6.97 minutes\n",
      "Epoch: 118/17999 | Loss: 0.0002 | Episodes: 7 | Win count: 114 | Win rate: 1.000 | time: 6.99 minutes\n",
      "Epoch: 119/17999 | Loss: 0.0004 | Episodes: 2 | Win count: 115 | Win rate: 1.000 | time: 7.00 minutes\n",
      "Epoch: 120/17999 | Loss: 0.0007 | Episodes: 16 | Win count: 116 | Win rate: 1.000 | time: 7.04 minutes\n",
      "Epoch: 121/17999 | Loss: 0.0004 | Episodes: 30 | Win count: 117 | Win rate: 1.000 | time: 7.10 minutes\n",
      "Epoch: 122/17999 | Loss: 0.0004 | Episodes: 7 | Win count: 118 | Win rate: 1.000 | time: 7.12 minutes\n",
      "Epoch: 123/17999 | Loss: 0.0004 | Episodes: 38 | Win count: 119 | Win rate: 1.000 | time: 7.20 minutes\n",
      "Epoch: 124/17999 | Loss: 0.0008 | Episodes: 8 | Win count: 120 | Win rate: 1.000 | time: 7.22 minutes\n",
      "Epoch: 125/17999 | Loss: 0.0006 | Episodes: 11 | Win count: 121 | Win rate: 1.000 | time: 7.26 minutes\n",
      "Epoch: 126/17999 | Loss: 0.0004 | Episodes: 19 | Win count: 122 | Win rate: 1.000 | time: 7.30 minutes\n",
      "Epoch: 127/17999 | Loss: 0.0004 | Episodes: 3 | Win count: 123 | Win rate: 1.000 | time: 7.32 minutes\n",
      "Epoch: 128/17999 | Loss: 0.0009 | Episodes: 7 | Win count: 124 | Win rate: 1.000 | time: 7.34 minutes\n",
      "Epoch: 129/17999 | Loss: 0.0003 | Episodes: 28 | Win count: 125 | Win rate: 1.000 | time: 7.39 minutes\n",
      "Epoch: 130/17999 | Loss: 0.0010 | Episodes: 18 | Win count: 126 | Win rate: 1.000 | time: 7.44 minutes\n",
      "Epoch: 131/17999 | Loss: 0.0004 | Episodes: 21 | Win count: 127 | Win rate: 1.000 | time: 7.49 minutes\n",
      "Epoch: 132/17999 | Loss: 0.0003 | Episodes: 1 | Win count: 128 | Win rate: 1.000 | time: 7.50 minutes\n",
      "Epoch: 133/17999 | Loss: 0.0005 | Episodes: 7 | Win count: 129 | Win rate: 1.000 | time: 7.53 minutes\n",
      "Epoch: 134/17999 | Loss: 0.0011 | Episodes: 34 | Win count: 130 | Win rate: 1.000 | time: 7.61 minutes\n",
      "Epoch: 135/17999 | Loss: 0.0005 | Episodes: 33 | Win count: 131 | Win rate: 1.000 | time: 7.68 minutes\n",
      "Epoch: 136/17999 | Loss: 0.0004 | Episodes: 10 | Win count: 132 | Win rate: 1.000 | time: 7.71 minutes\n",
      "Epoch: 137/17999 | Loss: 0.0004 | Episodes: 17 | Win count: 133 | Win rate: 1.000 | time: 7.76 minutes\n",
      "Epoch: 138/17999 | Loss: 0.0006 | Episodes: 25 | Win count: 134 | Win rate: 1.000 | time: 7.82 minutes\n",
      "Epoch: 139/17999 | Loss: 0.0004 | Episodes: 13 | Win count: 135 | Win rate: 1.000 | time: 7.86 minutes\n",
      "Epoch: 140/17999 | Loss: 0.0006 | Episodes: 30 | Win count: 136 | Win rate: 1.000 | time: 7.94 minutes\n",
      "Epoch: 141/17999 | Loss: 0.0005 | Episodes: 28 | Win count: 137 | Win rate: 1.000 | time: 7.99 minutes\n",
      "Epoch: 142/17999 | Loss: 0.0001 | Episodes: 23 | Win count: 138 | Win rate: 1.000 | time: 8.04 minutes\n",
      "Epoch: 143/17999 | Loss: 0.0004 | Episodes: 7 | Win count: 139 | Win rate: 1.000 | time: 8.06 minutes\n",
      "Epoch: 144/17999 | Loss: 0.0009 | Episodes: 2 | Win count: 140 | Win rate: 1.000 | time: 8.06 minutes\n",
      "Epoch: 145/17999 | Loss: 0.0002 | Episodes: 22 | Win count: 141 | Win rate: 1.000 | time: 8.11 minutes\n",
      "Epoch: 146/17999 | Loss: 0.0002 | Episodes: 27 | Win count: 142 | Win rate: 1.000 | time: 8.16 minutes\n",
      "Epoch: 147/17999 | Loss: 0.0006 | Episodes: 16 | Win count: 143 | Win rate: 1.000 | time: 8.20 minutes\n",
      "Epoch: 148/17999 | Loss: 0.0007 | Episodes: 28 | Win count: 144 | Win rate: 1.000 | time: 8.27 minutes\n",
      "Epoch: 149/17999 | Loss: 0.0004 | Episodes: 19 | Win count: 145 | Win rate: 1.000 | time: 8.32 minutes\n",
      "Epoch: 150/17999 | Loss: 0.0001 | Episodes: 7 | Win count: 146 | Win rate: 1.000 | time: 8.34 minutes\n",
      "Epoch: 151/17999 | Loss: 0.0008 | Episodes: 18 | Win count: 147 | Win rate: 1.000 | time: 8.38 minutes\n",
      "Epoch: 152/17999 | Loss: 0.0005 | Episodes: 4 | Win count: 148 | Win rate: 1.000 | time: 8.40 minutes\n",
      "Epoch: 153/17999 | Loss: 0.0003 | Episodes: 16 | Win count: 149 | Win rate: 1.000 | time: 8.45 minutes\n",
      "Epoch: 154/17999 | Loss: 0.0007 | Episodes: 26 | Win count: 150 | Win rate: 1.000 | time: 8.52 minutes\n",
      "Epoch: 155/17999 | Loss: 0.0001 | Episodes: 8 | Win count: 151 | Win rate: 1.000 | time: 8.55 minutes\n",
      "Epoch: 156/17999 | Loss: 0.0003 | Episodes: 6 | Win count: 152 | Win rate: 1.000 | time: 8.57 minutes\n",
      "Epoch: 157/17999 | Loss: 0.0003 | Episodes: 6 | Win count: 153 | Win rate: 1.000 | time: 8.59 minutes\n",
      "Epoch: 158/17999 | Loss: 0.0003 | Episodes: 23 | Win count: 154 | Win rate: 1.000 | time: 8.65 minutes\n",
      "Epoch: 159/17999 | Loss: 0.0003 | Episodes: 23 | Win count: 155 | Win rate: 1.000 | time: 8.70 minutes\n",
      "Epoch: 160/17999 | Loss: 0.0008 | Episodes: 3 | Win count: 156 | Win rate: 1.000 | time: 8.71 minutes\n",
      "Epoch: 161/17999 | Loss: 0.0001 | Episodes: 28 | Win count: 157 | Win rate: 1.000 | time: 8.78 minutes\n",
      "Epoch: 162/17999 | Loss: 0.0004 | Episodes: 3 | Win count: 158 | Win rate: 1.000 | time: 8.79 minutes\n",
      "Epoch: 163/17999 | Loss: 0.0005 | Episodes: 25 | Win count: 159 | Win rate: 1.000 | time: 8.85 minutes\n",
      "Epoch: 164/17999 | Loss: 0.0003 | Episodes: 25 | Win count: 160 | Win rate: 1.000 | time: 8.91 minutes\n",
      "Epoch: 165/17999 | Loss: 0.0000 | Episodes: 12 | Win count: 161 | Win rate: 1.000 | time: 8.94 minutes\n",
      "Epoch: 166/17999 | Loss: 0.0003 | Episodes: 25 | Win count: 162 | Win rate: 1.000 | time: 9.00 minutes\n",
      "Epoch: 167/17999 | Loss: 0.0005 | Episodes: 9 | Win count: 163 | Win rate: 1.000 | time: 9.02 minutes\n",
      "Epoch: 168/17999 | Loss: 0.0003 | Episodes: 6 | Win count: 164 | Win rate: 1.000 | time: 9.04 minutes\n",
      "Epoch: 169/17999 | Loss: 0.0006 | Episodes: 34 | Win count: 165 | Win rate: 1.000 | time: 9.11 minutes\n",
      "Epoch: 170/17999 | Loss: 0.0006 | Episodes: 27 | Win count: 166 | Win rate: 1.000 | time: 9.16 minutes\n",
      "Epoch: 171/17999 | Loss: 0.0002 | Episodes: 1 | Win count: 167 | Win rate: 1.000 | time: 9.16 minutes\n",
      "Epoch: 172/17999 | Loss: 0.0001 | Episodes: 4 | Win count: 168 | Win rate: 1.000 | time: 9.18 minutes\n",
      "Epoch: 173/17999 | Loss: 0.0000 | Episodes: 24 | Win count: 169 | Win rate: 1.000 | time: 9.24 minutes\n",
      "Reached 100% win rate at epoch: 173\n",
      "n_epoch: 173, max_mem: 512, data: 32, time: 9.25 minutes\n"
     ]
    },
    {
     "data": {
      "text/plain": [
       "554.772936"
      ]
     },
     "execution_count": 11,
     "metadata": {},
     "output_type": "execute_result"
    }
   ],
   "source": [
    "model = build_model(maze)\n",
    "qtrain(model, maze, epochs=18000, max_memory=8*maze.size, data_size=32)"
   ]
  },
  {
   "cell_type": "markdown",
   "metadata": {},
   "source": [
    "This cell will check to see if the model passes the completion check. Note: This could take several minutes."
   ]
  },
  {
   "cell_type": "code",
   "execution_count": 15,
   "metadata": {},
   "outputs": [
    {
     "data": {
      "text/plain": [
       "<matplotlib.image.AxesImage at 0x1653aa31fc8>"
      ]
     },
     "execution_count": 15,
     "metadata": {},
     "output_type": "execute_result"
    },
    {
     "data": {
      "image/png": "[encoded data removed]",
      "text/plain": [
       "<Figure size 432x288 with 1 Axes>"
      ]
     },
     "metadata": {
      "needs_background": "light"
     },
     "output_type": "display_data"
    }
   ],
   "source": [
    "completion_check(model, qmaze)\n",
    "show(qmaze)"
   ]
  },
  {
   "cell_type": "markdown",
   "metadata": {},
   "source": [
    "This cell will test your model for one game. It will start the pirate at the top-left corner and run play_game. The agent should find a path from the starting position to the target (treasure). The treasure is located in the bottom-right corner."
   ]
  },
  {
   "cell_type": "code",
   "execution_count": 16,
   "metadata": {},
   "outputs": [
    {
     "data": {
      "text/plain": [
       "<matplotlib.image.AxesImage at 0x1653aa9f948>"
      ]
     },
     "execution_count": 16,
     "metadata": {},
     "output_type": "execute_result"
    },
    {
     "data": {
      "image/png": "[encoded data removed]",
      "text/plain": [
       "<Figure size 432x288 with 1 Axes>"
      ]
     },
     "metadata": {
      "needs_background": "light"
     },
     "output_type": "display_data"
    }
   ],
   "source": [
    "pirate_start = (0, 0)\n",
    "play_game(model, qmaze, pirate_start)\n",
    "show(qmaze)"
   ]
  },
  {
   "cell_type": "markdown",
   "metadata": {},
   "source": [
    "## Save and Submit Your Work\n",
    "After you have finished creating the code for your notebook, save your work. Make sure that your notebook contains your name in the filename (e.g. Doe_Jane_ProjectTwo.ipynb). This will help your instructor access and grade your work easily. Download a copy of your IPYNB file and submit it to Brightspace. Refer to the Jupyter Notebook in Apporto Tutorial if you need help with these tasks."
   ]
  }
 ],
 "metadata": {
  "kernelspec": {
   "display_name": "Python 3",
   "language": "python",
   "name": "python3"
  },
  "language_info": {
   "codemirror_mode": {
    "name": "ipython",
    "version": 3
   },
   "file_extension": ".py",
   "mimetype": "text/x-python",
   "name": "python",
   "nbconvert_exporter": "python",
   "pygments_lexer": "ipython3",
   "version": "3.7.4"
  }
 },
 "nbformat": 4,
 "nbformat_minor": 2
}
